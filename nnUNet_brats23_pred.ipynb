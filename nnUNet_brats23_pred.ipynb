{
  "nbformat": 4,
  "nbformat_minor": 0,
  "metadata": {
    "colab": {
      "provenance": [],
      "gpuType": "T4",
      "machine_shape": "hm",
      "include_colab_link": true
    },
    "kernelspec": {
      "name": "python3",
      "display_name": "Python 3"
    },
    "language_info": {
      "name": "python"
    },
    "accelerator": "GPU"
  },
  "cells": [
    {
      "cell_type": "markdown",
      "metadata": {
        "id": "view-in-github",
        "colab_type": "text"
      },
      "source": [
        "<a href=\"https://colab.research.google.com/github/mobarakol/nnUNet_BraTS/blob/master/nnUNet_brats23_pred.ipynb\" target=\"_parent\"><img src=\"https://colab.research.google.com/assets/colab-badge.svg\" alt=\"Open In Colab\"/></a>"
      ]
    },
    {
      "cell_type": "markdown",
      "source": [
        "Download Data and Weights"
      ],
      "metadata": {
        "id": "Bil8prGx1ApB"
      }
    },
    {
      "cell_type": "code",
      "source": [
        "import gdown\n",
        "\n",
        "url = 'https://drive.google.com/uc?id=1DqewqWGTY7KyLuCz_sEi6l3Q59Sz8PEr'\n",
        "gdown.download(url,'epoch=173-dice=90.28.ckpt',quiet=True)\n",
        "\n",
        "url = 'https://drive.google.com/uc?id=1KDmrqD8EV7ElSiOgZS5p8uHRHxwwnK4n'\n",
        "gdown.download(url,'epoch=131-dice=90.34.ckpt',quiet=True)\n",
        "\n",
        "url = 'https://drive.google.com/uc?id=19iCnCxhdLa2LcudMYf6r97HGgsa7LRvl'\n",
        "gdown.download(url,'epoch=195-dice=91.42.ckpt',quiet=True)\n",
        "\n",
        "# url = 'https://drive.google.com/uc?id=13mf4PB-6p1lu43JuT6KO5wj7Pgkmtad6'\n",
        "# gdown.download(url,'epoch=166-dice=90.83.ckpt',quiet=True)\n",
        "\n",
        "# url = 'https://drive.google.com/uc?id=1Y0tDcGGgwcSEtmOFW5hYZeDL1IMhNmOZ'\n",
        "# gdown.download(url,'epoch=72-dice=89.73.ckpt',quiet=True)\n",
        "\n",
        "url = 'https://drive.google.com/uc?id=1dZDw0wFDTIZlAbFEqSAfMaKOAlEG_Fat'\n",
        "gdown.download(url,'ASNR-MICCAI-BraTS2023-GLI-Challenge-ValidationData.zip',quiet=True)\n",
        "!unzip -q ASNR-MICCAI-BraTS2023-GLI-Challenge-ValidationData.zip\n",
        "!mv ASNR-MICCAI-BraTS2023-GLI-Challenge-ValidationData official_valid"
      ],
      "metadata": {
        "id": "znKaBxH51I3Y"
      },
      "execution_count": 1,
      "outputs": []
    },
    {
      "cell_type": "code",
      "source": [
        "url = 'https://drive.google.com/uc?id=13mf4PB-6p1lu43JuT6KO5wj7Pgkmtad6'\n",
        "gdown.download(url,'epoch=166-dice=90.83.ckpt',quiet=True)"
      ],
      "metadata": {
        "colab": {
          "base_uri": "https://localhost:8080/",
          "height": 35
        },
        "id": "fKkygIsiZieE",
        "outputId": "69be5432-4cff-4322-8521-c787bde3a80e"
      },
      "execution_count": 2,
      "outputs": [
        {
          "output_type": "execute_result",
          "data": {
            "text/plain": [
              "'epoch=166-dice=90.83.ckpt'"
            ],
            "application/vnd.google.colaboratory.intrinsic+json": {
              "type": "string"
            }
          },
          "metadata": {},
          "execution_count": 2
        }
      ]
    },
    {
      "cell_type": "markdown",
      "source": [
        "Download Code"
      ],
      "metadata": {
        "id": "LBGzU0kM1eqk"
      }
    },
    {
      "cell_type": "code",
      "source": [
        "# !git clone https://github.com/NVIDIA/DeepLearningExamples.git\n",
        "!git clone https://github.com/mobarakol/nnUNet_BraTS.git\n",
        "%cd nnUNet_BraTS"
      ],
      "metadata": {
        "colab": {
          "base_uri": "https://localhost:8080/"
        },
        "id": "mpB_TlFC1aFC",
        "outputId": "945ea1ce-22ff-406d-af26-17325b682573"
      },
      "execution_count": 3,
      "outputs": [
        {
          "output_type": "stream",
          "name": "stdout",
          "text": [
            "Cloning into 'nnUNet_BraTS'...\n",
            "remote: Enumerating objects: 129, done.\u001b[K\n",
            "remote: Counting objects: 100% (129/129), done.\u001b[K\n",
            "remote: Compressing objects: 100% (116/116), done.\u001b[K\n",
            "remote: Total 129 (delta 53), reused 57 (delta 13), pack-reused 0\u001b[K\n",
            "Receiving objects: 100% (129/129), 499.83 KiB | 5.62 MiB/s, done.\n",
            "Resolving deltas: 100% (53/53), done.\n",
            "/content/nnUNet_BraTS\n"
          ]
        }
      ]
    },
    {
      "cell_type": "markdown",
      "source": [
        "Required installation:"
      ],
      "metadata": {
        "id": "VJIiPSFp-H3o"
      }
    },
    {
      "cell_type": "code",
      "source": [
        "!pip -q install monai pytorch-lightning git+https://github.com/NVIDIA/dllogger git+https://github.com/NVIDIA/mlperf-common.git -U rich\n",
        "#check nvidia-smi for nvidia version\n",
        "#if nvidia version is 12.++ then use below command\n",
        "!pip -q install --extra-index-url https://developer.download.nvidia.com/compute/redist --upgrade nvidia-dali-cuda120\n",
        "\n",
        "#if nvidia version is 11.++ then use below command\n",
        "# !pip install --extra-index-url https://developer.download.nvidia.com/compute/redist --upgrade nvidia-dali-cuda110"
      ],
      "metadata": {
        "colab": {
          "base_uri": "https://localhost:8080/"
        },
        "id": "2LWKrXGJ-MjF",
        "outputId": "14f65846-9849-4f2d-ec34-d0e47fdfd48d"
      },
      "execution_count": 4,
      "outputs": [
        {
          "output_type": "stream",
          "name": "stdout",
          "text": [
            "  Preparing metadata (setup.py) ... \u001b[?25l\u001b[?25hdone\n",
            "  Preparing metadata (setup.py) ... \u001b[?25l\u001b[?25hdone\n",
            "\u001b[2K     \u001b[90m━━━━━━━━━━━━━━━━━━━━━━━━━━━━━━━━━━━━━━━━\u001b[0m \u001b[32m1.3/1.3 MB\u001b[0m \u001b[31m8.7 MB/s\u001b[0m eta \u001b[36m0:00:00\u001b[0m\n",
            "\u001b[2K     \u001b[90m━━━━━━━━━━━━━━━━━━━━━━━━━━━━━━━━━━━━━━━\u001b[0m \u001b[32m725.0/725.0 kB\u001b[0m \u001b[31m3.2 MB/s\u001b[0m eta \u001b[36m0:00:00\u001b[0m\n",
            "\u001b[2K     \u001b[90m━━━━━━━━━━━━━━━━━━━━━━━━━━━━━━━━━━━━━━\u001b[0m \u001b[32m731.6/731.6 kB\u001b[0m \u001b[31m14.9 MB/s\u001b[0m eta \u001b[36m0:00:00\u001b[0m\n",
            "\u001b[?25h  Building wheel for DLLogger (setup.py) ... \u001b[?25l\u001b[?25hdone\n",
            "  Building wheel for mlperf-common (setup.py) ... \u001b[?25l\u001b[?25hdone\n",
            "\u001b[2K     \u001b[90m━━━━━━━━━━━━━━━━━━━━━━━━━━━━━━━━━━━━━━━\u001b[0m \u001b[32m291.5/291.5 MB\u001b[0m \u001b[31m3.5 MB/s\u001b[0m eta \u001b[36m0:00:00\u001b[0m\n",
            "\u001b[?25h"
          ]
        }
      ]
    },
    {
      "cell_type": "markdown",
      "source": [
        "#Data pre-processing\n",
        "Create 2 folders 1 file:<br>\n",
        "Folder1 = images: stack 4 input MRIs into one (240, 240, 155, 4) for each case <br>\n",
        "Fodler2 = labels: split the seg mask into this folder for each case<br>\n",
        "file = dataset.jason: mapped each image and corresponding label, mapped label names"
      ],
      "metadata": {
        "id": "vGftWaRn2cKk"
      }
    },
    {
      "cell_type": "code",
      "source": [
        "import json\n",
        "import os\n",
        "from glob import glob\n",
        "from subprocess import call\n",
        "import time\n",
        "\n",
        "import nibabel\n",
        "import numpy as np\n",
        "from joblib import Parallel, delayed\n",
        "\n",
        "\n",
        "def load_nifty(directory, example_id, suffix):\n",
        "    return nibabel.load(os.path.join(directory, example_id + \"-\" + suffix + \".nii.gz\"))\n",
        "\n",
        "\n",
        "def load_channels(d, example_id):\n",
        "    return [load_nifty(d, example_id, suffix) for suffix in [\"t2f\", \"t1n\", \"t1c\", \"t2w\"]]\n",
        "\n",
        "\n",
        "def get_data(nifty, dtype=\"int16\"):\n",
        "    if dtype == \"int16\":\n",
        "        data = np.abs(nifty.get_fdata().astype(np.int16))\n",
        "        data[data == -32768] = 0\n",
        "        return data\n",
        "    return nifty.get_fdata().astype(np.uint8)\n",
        "\n",
        "\n",
        "def prepare_nifty(d):\n",
        "    example_id = d.split(\"/\")[-1]\n",
        "    flair, t1, t1ce, t2 = load_channels(d, example_id)\n",
        "    affine, header = flair.affine, flair.header\n",
        "    vol = np.stack([get_data(flair), get_data(t1), get_data(t1ce), get_data(t2)], axis=-1)\n",
        "    vol = nibabel.nifti1.Nifti1Image(vol, affine, header=header)\n",
        "    nibabel.save(vol, os.path.join(d, example_id + \".nii.gz\"))\n",
        "\n",
        "    if os.path.exists(os.path.join(d, example_id + \"-seg.nii.gz\")):\n",
        "        seg = load_nifty(d, example_id, \"seg\")\n",
        "        affine, header = seg.affine, seg.header\n",
        "        vol = get_data(seg, \"unit8\")\n",
        "        vol[vol == 4] = 3\n",
        "        seg = nibabel.nifti1.Nifti1Image(vol, affine, header=header)\n",
        "        nibabel.save(seg, os.path.join(d, example_id + \"-seg.nii.gz\"))\n",
        "\n",
        "\n",
        "def prepare_dirs(data, train):\n",
        "    img_path, lbl_path = os.path.join(data, \"images\"), os.path.join(data, \"labels\")\n",
        "    call(f\"mkdir {img_path}\", shell=True)\n",
        "    if train:\n",
        "        call(f\"mkdir {lbl_path}\", shell=True)\n",
        "    dirs = glob(os.path.join(data, \"BraTS*\"))\n",
        "    for d in dirs:\n",
        "        if \"-\" in d.split(\"/\")[-1]:\n",
        "            files = glob(os.path.join(d, \"*.nii.gz\"))\n",
        "            for f in files:\n",
        "                if \"t2f\" in f or \"t1n\" in f or \"t1c\" in f or \"t2w\" in f:\n",
        "                    continue\n",
        "                if \"-seg\" in f:\n",
        "                    call(f\"mv {f} {lbl_path}\", shell=True)\n",
        "                else:\n",
        "                    call(f\"mv {f} {img_path}\", shell=True)\n",
        "        call(f\"rm -rf {d}\", shell=True)\n",
        "\n",
        "\n",
        "def prepare_dataset_json(data, train=True):\n",
        "    images, labels = glob(os.path.join(data, \"images\", \"*\")), glob(os.path.join(data, \"labels\", \"*\"))\n",
        "    images = sorted([img.replace(data + \"/\", \"\") for img in images])\n",
        "    labels = sorted([lbl.replace(data + \"/\", \"\") for lbl in labels])\n",
        "\n",
        "    modality = {\"0\": \"t2f\", \"1\": \"t1n\", \"2\": \"t1c\", \"3\": \"t2w\"}\n",
        "    labels_dict = {\"0\": \"background\", \"1\": \"edema\", \"2\": \"non-enhancing tumor\", \"3\": \"enhancing tumour\"}\n",
        "    if train:\n",
        "        key = \"training\"\n",
        "        data_pairs = [{\"image\": img, \"label\": lbl} for (img, lbl) in zip(images, labels)]\n",
        "    else:\n",
        "        key = \"test\"\n",
        "        data_pairs = [{\"image\": img} for img in images]\n",
        "\n",
        "    dataset = {\n",
        "        \"labels\": labels_dict,\n",
        "        \"modality\": modality,\n",
        "        key: data_pairs,\n",
        "    }\n",
        "\n",
        "    with open(os.path.join(data, \"dataset.json\"), \"w\") as outfile:\n",
        "        json.dump(dataset, outfile)\n",
        "\n",
        "\n",
        "def run_parallel(func, args):\n",
        "    return Parallel(n_jobs=os.cpu_count())(delayed(func)(arg) for arg in args)\n",
        "\n",
        "\n",
        "def prepare_dataset(data, train):\n",
        "    print(f\"Preparing BraTS23 dataset from: {data}\")\n",
        "    start = time.time()\n",
        "    run_parallel(prepare_nifty, sorted(glob(os.path.join(data, \"BraTS*\"))))\n",
        "    prepare_dirs(data, train)\n",
        "    prepare_dataset_json(data, train)\n",
        "    end = time.time()\n",
        "    print(f\"Preparing time: {(end - start):.2f}\")\n",
        "\n",
        "# prepare_dataset(\"/content/train_valid\", train=True)\n",
        "prepare_dataset(\"/content/official_valid\", train=False)\n",
        "print(\"Finished!\")"
      ],
      "metadata": {
        "colab": {
          "base_uri": "https://localhost:8080/"
        },
        "id": "clBiWMSc1xkV",
        "outputId": "77bf28dd-d663-4436-8d8e-569e4870f334"
      },
      "execution_count": 5,
      "outputs": [
        {
          "output_type": "stream",
          "name": "stdout",
          "text": [
            "Preparing BraTS23 dataset from: /content/official_valid\n",
            "Preparing time: 134.19\n",
            "Finished!\n"
          ]
        }
      ]
    },
    {
      "cell_type": "markdown",
      "source": [
        "Cropping and normalizing the volumes:<br>\n",
        "1. crop the background padding (with voxel value zero)<br>\n",
        "2. compute mean and the standard deviation  within the non-zero region for each channel separately<br>\n",
        "3. The background voxels are not normalized so that their value remained at zero"
      ],
      "metadata": {
        "id": "vGioKB2E8LAz"
      }
    },
    {
      "cell_type": "markdown",
      "source": [
        "Cropping and Normalizing:\n",
        "1. Transpose stacked volume in to pytorch format [B x C x D x H x W] <br>\n",
        "1. Creating a folder with name 11_3d and store 4 normalized files for each case:<br>\n",
        "(i) _x.npy (): To distinguish between background voxels and normalized voxels which have values close to zero, we add an input channel with one-hot encoding for foreground voxels and stacked with the input data. As a result, each example has 5 channels.<br>\n",
        "(ii) _y.npy(): Cropped label which is same as _orig_lbl.npy()<br>\n",
        "(iii) _orig_lbl.npy(): cropped original label<br>\n",
        "(iv) _meta.npy(): cropping information with 4 coordinates:[[zmin, xmin, ymin], [zmax, xmax, ymax],[z, x, y],[zcrop, xcrop, ycrop]<br>\n",
        "2. config.pkl: a dictionary with the information of patch size, channel and classes like<br>\n",
        "{'patch_size': [128, 128, 128], 'spacings': [1.0, 1.0, 1.0], 'n_class': 4 'in_channels': 5}\n"
      ],
      "metadata": {
        "id": "VXuViSUMfvEZ"
      }
    },
    {
      "cell_type": "code",
      "source": [
        "# If there is any error with MKL then run the first command then restart the notebook then run the both commands\n",
        "# !export MKL_SERVICE_FORCE_INTEL=1\n",
        "!python3 preprocess.py --task 12 --ohe --exec_mode test --data /content --results /content/official_valid"
      ],
      "metadata": {
        "colab": {
          "base_uri": "https://localhost:8080/"
        },
        "id": "iqyj5I3W4-xh",
        "outputId": "360d0e58-d30b-4752-a37c-92de764f0ca4"
      },
      "execution_count": 6,
      "outputs": [
        {
          "output_type": "stream",
          "name": "stdout",
          "text": [
            "2023-08-16 12:43:50.373881: I tensorflow/core/platform/cpu_feature_guard.cc:182] This TensorFlow binary is optimized to use available CPU instructions in performance-critical operations.\n",
            "To enable the following instructions: AVX2 FMA, in other operations, rebuild TensorFlow with the appropriate compiler flags.\n",
            "2023-08-16 12:43:51.944098: W tensorflow/compiler/tf2tensorrt/utils/py_utils.cc:38] TF-TRT Warning: Could not find TensorRT\n",
            "Preprocessing /content/official_valid\n",
            "2023-08-16 12:44:06.437624: W tensorflow/compiler/tf2tensorrt/utils/py_utils.cc:38] TF-TRT Warning: Could not find TensorRT\n",
            "2023-08-16 12:44:06.560896: W tensorflow/compiler/tf2tensorrt/utils/py_utils.cc:38] TF-TRT Warning: Could not find TensorRT\n",
            "2023-08-16 12:44:06.799532: W tensorflow/compiler/tf2tensorrt/utils/py_utils.cc:38] TF-TRT Warning: Could not find TensorRT\n",
            "2023-08-16 12:44:07.222277: W tensorflow/compiler/tf2tensorrt/utils/py_utils.cc:38] TF-TRT Warning: Could not find TensorRT\n",
            "Pre-processing time: 268.90\n"
          ]
        }
      ]
    },
    {
      "cell_type": "markdown",
      "source": [
        "visualization after normalised and cropped"
      ],
      "metadata": {
        "id": "csPQokvuuUCq"
      }
    },
    {
      "cell_type": "code",
      "source": [
        "import matplotlib.pyplot as plt\n",
        "_x = np.load('/content/official_valid/12_3d/test/BraTS-GLI-00001-000_x.npy')\n",
        "_meta = np.load('/content/official_valid/12_3d/test/BraTS-GLI-00001-000_meta.npy')\n",
        "print('_x:',_x.shape,'_meta:', _meta.shape)\n",
        "\n",
        "import pickle\n",
        "with open('/content/official_valid/12_3d/test/config.pkl', 'rb') as f:\n",
        "    data = pickle.load(f)\n",
        "print(data)\n",
        "\n",
        "num_img = 5\n",
        "slice_n = 40\n",
        "fig, ax = plt.subplots(1, num_img, figsize=(1.5*num_img,7), subplot_kw=dict(xticks=[],yticks=[]))\n",
        "ax[0].imshow(_x[0,slice_n,], cmap='gray')\n",
        "ax[0].set_title('_x[0]:flair')\n",
        "ax[1].imshow(_x[1,slice_n,], cmap='gray')\n",
        "ax[1].set_title('_x[1]:t1')\n",
        "ax[2].imshow(_x[2,slice_n,], cmap='gray')\n",
        "ax[2].set_title('_x[2]:tice')\n",
        "ax[3].imshow(_x[3,slice_n,], cmap='gray')\n",
        "ax[3].set_title('_x[3]:t2')\n",
        "ax[4].imshow(_x[4,slice_n,], cmap='gray')\n",
        "ax[4].set_title('_x[4]:oh_fg')\n"
      ],
      "metadata": {
        "colab": {
          "base_uri": "https://localhost:8080/",
          "height": 249
        },
        "id": "PZwiFQHmiMbA",
        "outputId": "f941359e-4130-4e25-c475-8a64699ae670"
      },
      "execution_count": 7,
      "outputs": [
        {
          "output_type": "stream",
          "name": "stdout",
          "text": [
            "_x: (5, 137, 190, 140) _meta: (4, 3)\n",
            "{'patch_size': [128, 128, 128], 'spacings': [1.0, 1.0, 1.0], 'n_class': 4, 'in_channels': 5}\n"
          ]
        },
        {
          "output_type": "execute_result",
          "data": {
            "text/plain": [
              "Text(0.5, 1.0, '_x[4]:oh_fg')"
            ]
          },
          "metadata": {},
          "execution_count": 7
        },
        {
          "output_type": "display_data",
          "data": {
            "text/plain": [
              "<Figure size 750x700 with 5 Axes>"
            ],
            "image/png": "[encoded data removed]"
          },
          "metadata": {}
        }
      ]
    },
    {
      "cell_type": "markdown",
      "source": [
        "Prediction on Fold0"
      ],
      "metadata": {
        "id": "21tvU3_p0xx9"
      }
    },
    {
      "cell_type": "code",
      "source": [
        "!python main.py --brats --deep_supervision --depth 6 --filters 64 96 128 192 256 384 512 --min_fmap 2 --gpus 1 --amp --save_preds --exec_mode predict  --data /content/official_valid/12_3d/test --ckpt_path /content/epoch=131-dice=90.34.ckpt --tta --results /content/official_valid\n",
        "!python main.py --brats --deep_supervision --depth 6 --filters 64 96 128 192 256 384 512 --min_fmap 2 --gpus 1 --amp --save_preds --exec_mode predict  --data /content/official_valid/12_3d/test --ckpt_path /content/epoch=173-dice=90.28.ckpt --tta --results /content/official_valid\n",
        "!python main.py --brats --deep_supervision --depth 6 --filters 64 96 128 192 256 384 512 --min_fmap 2 --gpus 1 --amp --save_preds --exec_mode predict  --data /content/official_valid/12_3d/test --ckpt_path /content/epoch=195-dice=91.42.ckpt --tta --results /content/official_valid\n",
        "# !python main.py --brats --deep_supervision --depth 6 --filters 64 96 128 192 256 384 512 --min_fmap 2 --gpus 1 --amp --save_preds --exec_mode predict  --data /content/official_valid/12_3d/test --ckpt_path /content/epoch=166-dice=90.83.ckpt --tta --results /content/official_valid\n",
        "# !python main.py --brats --deep_supervision --depth 6 --filters 64 96 128 192 256 384 512 --min_fmap 2 --gpus 1 --amp --save_preds --exec_mode predict  --data /content/official_valid/12_3d/test --ckpt_path /content/epoch=72-dice=89.73.ckpt --tta --results /content/official_valid"
      ],
      "metadata": {
        "id": "uPD926RzCEhB",
        "colab": {
          "base_uri": "https://localhost:8080/"
        },
        "outputId": "e36836da-a89e-4e11-ac27-1f9315d84ef2"
      },
      "execution_count": null,
      "outputs": [
        {
          "output_type": "stream",
          "name": "stdout",
          "text": [
            "2023-08-16 12:48:36.445189: I tensorflow/core/platform/cpu_feature_guard.cc:182] This TensorFlow binary is optimized to use available CPU instructions in performance-critical operations.\n",
            "To enable the following instructions: AVX2 FMA, in other operations, rebuild TensorFlow with the appropriate compiler flags.\n",
            "2023-08-16 12:48:37.893134: W tensorflow/compiler/tf2tensorrt/utils/py_utils.cc:38] TF-TRT Warning: Could not find TensorRT\n",
            "0 training, 0 validation, 219 test examples\n",
            "Lightning automatically upgraded your loaded checkpoint from v1.9.4 to v2.0.7. To apply the upgrade to your files permanently, run `python -m pytorch_lightning.utilities.upgrade_checkpoint --file ../epoch=131-dice=90.34.ckpt`\n",
            "Filters: [64, 96, 128, 192, 256, 384, 512],\n",
            "Kernels: [[3, 3, 3], [3, 3, 3], [3, 3, 3], [3, 3, 3], [3, 3, 3], [3, 3, 3], [3, 3, 3]]\n",
            "Strides: [[1, 1, 1], [2, 2, 2], [2, 2, 2], [2, 2, 2], [2, 2, 2], [2, 2, 2], [2, 2, 2]]\n",
            "/usr/local/lib/python3.10/dist-packages/lightning_fabric/connector.py:554: UserWarning: 16 is supported for historical reasons but its usage is discouraged. Please set your precision to 16-mixed instead!\n",
            "  rank_zero_warn(\n",
            "Using 16bit Automatic Mixed Precision (AMP)\n",
            "Trainer already configured with model summary callbacks: [<class 'pytorch_lightning.callbacks.model_summary.ModelSummary'>]. Skipping setting a default `ModelSummary` callback.\n",
            "GPU available: True (cuda), used: True\n",
            "TPU available: False, using: 0 TPU cores\n",
            "IPU available: False, using: 0 IPUs\n",
            "HPU available: False, using: 0 HPUs\n",
            "`Trainer(limit_train_batches=1.0)` was configured so 100% of the batches per epoch will be used..\n",
            "`Trainer(limit_val_batches=1.0)` was configured so 100% of the batches will be used..\n",
            "`Trainer(limit_test_batches=1.0)` was configured so 100% of the batches will be used..\n",
            "Initializing distributed: GLOBAL_RANK: 0, MEMBER: 1/1\n",
            "----------------------------------------------------------------------------------------------------\n",
            "distributed_backend=nccl\n",
            "All distributed processes registered. Starting with 1 processes\n",
            "----------------------------------------------------------------------------------------------------\n",
            "\n",
            "LOCAL_RANK: 0 - CUDA_VISIBLE_DEVICES: [0]\n",
            "\u001b[2K\u001b[37mTesting\u001b[0m \u001b[35m━━━━━━━━━━━━━━━━━━━━━━━━━━━━━━━━━━━\u001b[0m \u001b[37m219/219\u001b[0m \u001b[37m1:01:33 • 0:00:00\u001b[0m \u001b[37m0.06it/s\u001b[0m \n",
            "\u001b[?25h2023-08-16 13:50:39.676564: I tensorflow/core/platform/cpu_feature_guard.cc:182] This TensorFlow binary is optimized to use available CPU instructions in performance-critical operations.\n",
            "To enable the following instructions: AVX2 FMA, in other operations, rebuild TensorFlow with the appropriate compiler flags.\n",
            "2023-08-16 13:50:41.440474: W tensorflow/compiler/tf2tensorrt/utils/py_utils.cc:38] TF-TRT Warning: Could not find TensorRT\n",
            "0 training, 0 validation, 219 test examples\n",
            "Lightning automatically upgraded your loaded checkpoint from v1.9.4 to v2.0.7. To apply the upgrade to your files permanently, run `python -m pytorch_lightning.utilities.upgrade_checkpoint --file ../epoch=173-dice=90.28.ckpt`\n",
            "Filters: [64, 96, 128, 192, 256, 384, 512],\n",
            "Kernels: [[3, 3, 3], [3, 3, 3], [3, 3, 3], [3, 3, 3], [3, 3, 3], [3, 3, 3], [3, 3, 3]]\n",
            "Strides: [[1, 1, 1], [2, 2, 2], [2, 2, 2], [2, 2, 2], [2, 2, 2], [2, 2, 2], [2, 2, 2]]\n",
            "/usr/local/lib/python3.10/dist-packages/lightning_fabric/connector.py:554: UserWarning: 16 is supported for historical reasons but its usage is discouraged. Please set your precision to 16-mixed instead!\n",
            "  rank_zero_warn(\n",
            "Using 16bit Automatic Mixed Precision (AMP)\n",
            "Trainer already configured with model summary callbacks: [<class 'pytorch_lightning.callbacks.model_summary.ModelSummary'>]. Skipping setting a default `ModelSummary` callback.\n",
            "GPU available: True (cuda), used: True\n",
            "TPU available: False, using: 0 TPU cores\n",
            "IPU available: False, using: 0 IPUs\n",
            "HPU available: False, using: 0 HPUs\n",
            "`Trainer(limit_train_batches=1.0)` was configured so 100% of the batches per epoch will be used..\n",
            "`Trainer(limit_val_batches=1.0)` was configured so 100% of the batches will be used..\n",
            "`Trainer(limit_test_batches=1.0)` was configured so 100% of the batches will be used..\n",
            "Initializing distributed: GLOBAL_RANK: 0, MEMBER: 1/1\n",
            "----------------------------------------------------------------------------------------------------\n",
            "distributed_backend=nccl\n",
            "All distributed processes registered. Starting with 1 processes\n",
            "----------------------------------------------------------------------------------------------------\n",
            "\n",
            "LOCAL_RANK: 0 - CUDA_VISIBLE_DEVICES: [0]\n",
            "\u001b[2K\u001b[37mTesting\u001b[0m \u001b[35m╸\u001b[0m\u001b[90m━━━━━━━━━━━━━━━━━━━━━━━━━━━━━━━━━━━━\u001b[0m \u001b[37m4/219\u001b[0m \u001b[37m0:01:27 • 0:59:57\u001b[0m \u001b[37m0.06it/s\u001b[0m "
          ]
        }
      ]
    },
    {
      "cell_type": "markdown",
      "source": [
        "Post-processing"
      ],
      "metadata": {
        "id": "wREuk5CkoYBX"
      }
    },
    {
      "cell_type": "code",
      "source": [
        "import os\n",
        "from glob import glob\n",
        "from subprocess import call\n",
        "\n",
        "import nibabel as nib\n",
        "import numpy as np\n",
        "from scipy.ndimage.measurements import label\n",
        "\n",
        "\n",
        "def to_lbl(pred):\n",
        "    enh = pred[2]\n",
        "    c1, c2, c3 = pred[0] > 0.4, pred[1] > 0.35, pred[2] > 0.375\n",
        "    pred = (c1 > 0).astype(np.uint8)\n",
        "    pred[(c2 == False) * (c1 == True)] = 2\n",
        "    pred[(c3 == True) * (c1 == True)] = 4\n",
        "\n",
        "    components, n = label(pred == 4)\n",
        "    for et_idx in range(1, n + 1):\n",
        "        _, counts = np.unique(pred[components == et_idx], return_counts=True)\n",
        "        if 1 < counts[0] and counts[0] < 4 and np.mean(enh[components == et_idx]) < 0.9:\n",
        "            pred[components == et_idx] = 1\n",
        "\n",
        "    et = pred == 4\n",
        "    if 0 < et.sum() and et.sum() < 5 and np.mean(enh[et]) < 0.9:\n",
        "        pred[et] = 1\n",
        "\n",
        "    pred[pred==4] = 3\n",
        "    pred = np.transpose(pred, (2, 1, 0)).astype(np.uint8)\n",
        "    return pred\n",
        "\n",
        "\n",
        "def prepare_preditions(e):\n",
        "    fname = e[0].split(\"/\")[-1].split(\".\")[0]\n",
        "    preds = [np.load(f) for f in e]\n",
        "    p = to_lbl(np.mean(preds, 0))\n",
        "    # print(f\"/content/official_valid/images/{fname}.nii.gz\")\n",
        "    img = nib.load(f\"/content/official_valid/images/{fname}.nii.gz\")\n",
        "    img1 = img.get_fdata()[:,:,:,0]\n",
        "    p[img1==0] = 0\n",
        "    nib.save(\n",
        "        nib.Nifti1Image(p, img.affine, header=img.header),\n",
        "        os.path.join(\"final_preds\", fname + \".nii.gz\"),\n",
        "    )\n",
        "\n",
        "os.makedirs(\"final_preds\", exist_ok=True )\n",
        "preds = sorted(glob(f\"/content/official_valid/predictions*\"))\n",
        "examples = list(zip(*[sorted(glob(f\"{p}/*.npy\")) for p in preds]))\n",
        "print(\"Preparing final predictions\")\n",
        "for e in examples:\n",
        "    prepare_preditions(e)\n",
        "print(\"Finished!\")"
      ],
      "metadata": {
        "id": "eEudozG5ezDM"
      },
      "execution_count": null,
      "outputs": []
    },
    {
      "cell_type": "markdown",
      "source": [
        "Visualization"
      ],
      "metadata": {
        "id": "TRqVBhbPqiA9"
      }
    },
    {
      "cell_type": "code",
      "source": [
        "import numpy as np\n",
        "import matplotlib.pyplot as plt\n",
        "import nibabel as nib\n",
        "from glob import glob\n",
        "\n",
        "n, z = 1, 75\n",
        "data = sorted(glob(\"final_preds/*.nii.gz\"))\n",
        "for i in range(n):\n",
        "    fname = data[i].split(\"/\")[-1].split(\".\")[0]\n",
        "    print(fname)\n",
        "    img = nib.load(f\"/content/official_valid/images/{fname}.nii.gz\").get_fdata().astype(np.float32)\n",
        "    pred = nib.load(data[i]).get_fdata().astype(np.uint8)[:, :, z]\n",
        "    imgs = [img[:, :, z, i] for i in [0, 3]] + [pred]\n",
        "\n",
        "    fig, ax = plt.subplots(nrows=1, ncols=3, figsize=(12, 12))\n",
        "    for i in range(3):\n",
        "        if i < 2:\n",
        "            ax[i].imshow(imgs[i], cmap='gray')\n",
        "        else:\n",
        "            ax[i].imshow(imgs[i]);\n",
        "        ax[i].axis('off')\n",
        "    plt.tight_layout()\n",
        "    plt.show()"
      ],
      "metadata": {
        "id": "tzqJe5Kmpgtf"
      },
      "execution_count": null,
      "outputs": []
    },
    {
      "cell_type": "code",
      "source": [
        "!zip -r final_preds.zip final_preds"
      ],
      "metadata": {
        "id": "aMZp-XLAqtOi"
      },
      "execution_count": null,
      "outputs": []
    },
    {
      "cell_type": "code",
      "source": [
        "from google.colab import files\n",
        "files.download('final_preds.zip')"
      ],
      "metadata": {
        "id": "brTcHUJKqgub"
      },
      "execution_count": null,
      "outputs": []
    },
    {
      "cell_type": "code",
      "source": [],
      "metadata": {
        "id": "rpyuypNxbwtG"
      },
      "execution_count": null,
      "outputs": []
    }
  ]
}